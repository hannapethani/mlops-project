{
 "cells": [
  {
   "cell_type": "code",
   "execution_count": null,
   "metadata": {},
   "outputs": [],
   "source": [
    "import pandas as pd\n",
    "\n",
    "import pickle\n",
    "\n",
    "from sklearn.feature_extraction import DictVectorizer\n",
    "from sklearn.linear_model import LinearRegression, Ridge\n",
    "from sklearn.metrics import mean_squared_error\n",
    "\n",
    "import mlflow\n",
    "from mlflow.tracking import MlflowClient\n",
    "\n",
    "from hyperopt import fmin, tpe, hp, STATUS_OK, Trials\n",
    "from hyperopt.pyll import scope"
   ]
  },
  {
   "cell_type": "code",
   "execution_count": null,
   "metadata": {},
   "outputs": [],
   "source": [
    "df = pd.read_csv('./data/202204-capitalbikeshare-tripdata.csv', parse_dates = ['started_at', 'ended_at'])"
   ]
  },
  {
   "cell_type": "code",
   "execution_count": null,
   "metadata": {},
   "outputs": [],
   "source": [
    "df.head()"
   ]
  },
  {
   "cell_type": "code",
   "execution_count": null,
   "metadata": {},
   "outputs": [],
   "source": [
    "df.dtypes"
   ]
  },
  {
   "cell_type": "code",
   "execution_count": null,
   "metadata": {},
   "outputs": [],
   "source": [
    "df['duration'] = df['ended_at'] - df['started_at']\n",
    "\n",
    "df.duration = df.duration.apply(lambda td: td.total_seconds() / 60)\n",
    "\n",
    "df.head()"
   ]
  },
  {
   "cell_type": "code",
   "execution_count": null,
   "metadata": {},
   "outputs": [],
   "source": [
    "# in future can calculate distance from the lat/long info\n",
    "\n",
    "df[['start_station_id', 'end_station_id']] = df[['start_station_id', 'end_station_id']].fillna(-1)\n",
    "df = df[(df.duration >= 1) & (df.duration <= 120)]"
   ]
  },
  {
   "cell_type": "code",
   "execution_count": null,
   "metadata": {},
   "outputs": [],
   "source": [
    "categorical = ['rideable_type', 'start_station_id', 'end_station_id']\n",
    "numerical = ['duration']\n",
    "df[categorical].dtypes"
   ]
  },
  {
   "cell_type": "code",
   "execution_count": null,
   "metadata": {},
   "outputs": [],
   "source": [
    "train_dicts = df[categorical].to_dict(orient = 'records')"
   ]
  },
  {
   "cell_type": "code",
   "execution_count": null,
   "metadata": {},
   "outputs": [],
   "source": [
    "dv = DictVectorizer()\n",
    "X_train = dv.fit_transform(train_dicts)\n",
    "X_train.shape"
   ]
  },
  {
   "cell_type": "code",
   "execution_count": null,
   "metadata": {},
   "outputs": [],
   "source": [
    "target = 'duration'\n",
    "y_train = df[target].values\n",
    "y_train"
   ]
  },
  {
   "cell_type": "code",
   "execution_count": null,
   "metadata": {},
   "outputs": [],
   "source": [
    "lr = LinearRegression()\n",
    "lr.fit(X_train, y_train)\n"
   ]
  },
  {
   "cell_type": "code",
   "execution_count": null,
   "metadata": {},
   "outputs": [],
   "source": [
    "y_pred = lr.predict(X_train)"
   ]
  },
  {
   "cell_type": "code",
   "execution_count": null,
   "metadata": {},
   "outputs": [],
   "source": [
    "mean_squared_error(y_train, y_pred, squared = False) "
   ]
  },
  {
   "cell_type": "code",
   "execution_count": null,
   "metadata": {},
   "outputs": [],
   "source": [
    "def read_dataframe(filename):\n",
    "\n",
    "    df = pd.read_csv(filename)\n",
    "    \n",
    "    df['started_at'] = pd.to_datetime(df['started_at'])\n",
    "    df['ended_at'] = pd.to_datetime(df['ended_at'])\n",
    "\n",
    "    df['duration'] = df['ended_at'] - df['started_at']\n",
    "    df.duration = df.duration.apply(lambda td: td.total_seconds() / 60)\n",
    "\n",
    "    df = df[(df.duration >= 1) & (df.duration <= 120)]\n",
    "\n",
    "    df[['rideable_type', 'start_station_id', 'end_station_id']] = df[['rideable_type', 'start_station_id', 'end_station_id']].fillna(-1)\n",
    "    categorical = ['rideable_type', 'start_station_id', 'end_station_id']\n",
    "\n",
    "    df[categorical] = df[categorical].astype(str)\n",
    "    \n",
    "    return df\n",
    "    "
   ]
  },
  {
   "cell_type": "code",
   "execution_count": null,
   "metadata": {},
   "outputs": [],
   "source": [
    "df_train = read_dataframe('./data/202204-capitalbikeshare-tripdata.csv')\n",
    "df_val = read_dataframe('./data/202205-capitalbikeshare-tripdata.csv')"
   ]
  },
  {
   "cell_type": "code",
   "execution_count": null,
   "metadata": {},
   "outputs": [],
   "source": [
    "len(df_train), len(df_val)"
   ]
  },
  {
   "cell_type": "code",
   "execution_count": null,
   "metadata": {},
   "outputs": [],
   "source": [
    "categorical = ['rideable_type', 'start_station_id', 'end_station_id']\n",
    "numerical = ['duration']\n",
    "\n",
    "dv = DictVectorizer()\n",
    "\n",
    "train_dicts = df[categorical].to_dict(orient = 'records')\n",
    "X_train = dv.fit_transform(train_dicts)\n",
    "\n",
    "val_dicts = df_val[categorical].to_dict(orient = 'records')\n",
    "X_val = dv.transform(val_dicts)"
   ]
  },
  {
   "cell_type": "code",
   "execution_count": null,
   "metadata": {},
   "outputs": [],
   "source": [
    "target = 'duration'\n",
    "y_train = df_train[target].values\n",
    "y_val = df_val[target].values"
   ]
  },
  {
   "cell_type": "code",
   "execution_count": null,
   "metadata": {},
   "outputs": [],
   "source": [
    "lr = Ridge()\n",
    "lr.fit(X_train, y_train)\n",
    "\n",
    "y_pred = lr.predict(X_val)\n",
    "\n",
    "mean_squared_error(y_val, y_pred, squared = False)"
   ]
  },
  {
   "cell_type": "code",
   "execution_count": null,
   "metadata": {},
   "outputs": [],
   "source": [
    "with open('models/lin_reg.bin', 'wb') as f_out:\n",
    "    pickle.dump((dv, lr), f_out)"
   ]
  },
  {
   "cell_type": "code",
   "execution_count": null,
   "metadata": {},
   "outputs": [],
   "source": [
    "\n",
    "# mlflow.set_tracking_uri = ('http://127.0.0.1:5000')\n",
    "# mlflow.set_experiment('duration-prediction')\n",
    "\n",
    "# with mlflow.start_run():\n",
    "\n",
    "#         mlflow.set_tag('developer', 'hanna')\n",
    "\n",
    "#         mlflow.log_param('train-data-path', './data/202204-capitalbikeshare-tripdata.csv')\n",
    "#         mlflow.log_param('valid-data-path', './data/202205-capitalbikeshare-tripdata.csv')\n",
    "\n",
    "#         alpha = 0.1\n",
    "#         mlflow.log_param('alpha', alpha)\n",
    "\n",
    "#         lr = Ridge(alpha)\n",
    "#         lr.fit(X_train, y_train)\n",
    "        \n",
    "#         y_pred = lr.predict(X_val)\n",
    "#         rmse = mean_squared_error(y_val, y_pred, squared = False)\n",
    "#         mlflow.log_metric('rmse', rmse)\n",
    "\n",
    "#         mlflow.log_artifact(local_path = 'models/lin_reg.bin', artifact_path='models_pickle')"
   ]
  },
  {
   "cell_type": "code",
   "execution_count": null,
   "metadata": {},
   "outputs": [],
   "source": [
    "lr.get_params()"
   ]
  },
  {
   "cell_type": "code",
   "execution_count": null,
   "metadata": {},
   "outputs": [],
   "source": [
    "solvers = ['auto', 'svd', 'cholesky', 'lsqr', 'sparse_cg', 'sag', 'saga']\n",
    "intercepts = [True, False]\n",
    "\n",
    "def train_model_search(X_train, y_train, X_val, y_val):\n",
    "    def objective(params):\n",
    "        with mlflow.start_run(nested=True):\n",
    "             mlflow.set_tag('model', 'ridge')\n",
    "             mlflow.log_params(params)\n",
    "\n",
    "             lr = Ridge(**params)\n",
    "             lr.fit(X_train, y_train)\n",
    "             y_pred = lr.predict(X_val)\n",
    "             rmse = mean_squared_error(y_val, y_pred, squared=False)\n",
    "             mlflow.log_metric(\"rmse\", rmse)\n",
    "\n",
    "        return {'loss': rmse, 'status': STATUS_OK}\n",
    "\n",
    "    search_space = {\n",
    "        'fit_intercept': hp.choice('fit_intercept', intercepts),\n",
    "        'solver': hp.choice('solver', solvers),\n",
    "        'alpha': scope.int(hp.uniform('alpha', 0, 1))\n",
    "    }\n",
    "\n",
    "    best_result = fmin(\n",
    "        fn=objective,\n",
    "        space=search_space,\n",
    "        algo=tpe.suggest,\n",
    "        max_evals=1,\n",
    "        trials=Trials()\n",
    "    )\n",
    "    return best_result\n",
    "\n",
    "def train_best_model(X_train, y_train, X_val, y_val, dv, best_result):\n",
    "    with mlflow.start_run(nested=True):\n",
    "        \n",
    "        train = lr.fit(X_train, label=y_train)\n",
    "        valid = lr.fit(X_val, label=y_val)\n",
    "\n",
    "        mlflow.log_params(best_result)\n",
    "\n",
    "        lr = Ridge(**best_result)\n",
    "        lr.fit(X_train, y_train)\n",
    "        y_pred = lr.predict(X_val)\n",
    "        rmse = mean_squared_error(y_val, y_pred, squared=False)\n",
    "        mlflow.log_metric('rmse', rmse)\n",
    "\n",
    "        with open(\"models/preprocessor.b\", \"wb\") as f_out:\n",
    "            pickle.dump(dv, f_out)\n",
    "        mlflow.log_artifact(\"models/preprocessor.b\", artifact_path=\"preprocessor\")\n",
    "\n",
    "\n",
    "mlflow.sklearn.log_model(lr, artifact_path=\"models\")\n",
    "\n",
    "if __name__ == \"__main__\":\n",
    "\n",
    "    mlflow.set_tracking_uri = ('http://127.0.0.1:5000')\n",
    "    mlflow.set_experiment('bike-duration-prediction')\n",
    "\n",
    "    X_train, X_val, y_train, y_val, dv\n",
    "    train = lr.fit(X_train, y_train)\n",
    "    valid = lr.fit(X_val, y_val)\n",
    "    best_result = train_model_search(X_train, y_train, X_val, y_val)\n",
    "    train_best_model(X_train, y_train, X_val, y_val, dv, best_result)"
   ]
  }
 ],
 "metadata": {
  "kernelspec": {
   "display_name": "Python 3.10.4 ('deployment-env')",
   "language": "python",
   "name": "python3"
  },
  "language_info": {
   "codemirror_mode": {
    "name": "ipython",
    "version": 3
   },
   "file_extension": ".py",
   "mimetype": "text/x-python",
   "name": "python",
   "nbconvert_exporter": "python",
   "pygments_lexer": "ipython3",
   "version": "3.10.4"
  },
  "orig_nbformat": 4,
  "vscode": {
   "interpreter": {
    "hash": "20c234d05a57c7fcbea82369532fcdbc948df8bc52d9dfd7b1138e10d4d5f6ea"
   }
  }
 },
 "nbformat": 4,
 "nbformat_minor": 2
}
