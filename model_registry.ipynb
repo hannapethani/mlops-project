{
 "cells": [
  {
   "cell_type": "code",
   "execution_count": 1,
   "metadata": {},
   "outputs": [],
   "source": [
    "import mlflow\n",
    "from mlflow.tracking import MlflowClient\n",
    "from mlflow.entities import ViewType\n",
    "\n",
    "from datetime import datetime"
   ]
  },
  {
   "cell_type": "code",
   "execution_count": 2,
   "metadata": {},
   "outputs": [],
   "source": [
    "mlflow_tracking_uri = 'sqlite:///mlflow.db'\n",
    "\n",
    "client = MlflowClient(tracking_uri=mlflow_tracking_uri)"
   ]
  },
  {
   "cell_type": "code",
   "execution_count": 3,
   "metadata": {},
   "outputs": [
    {
     "name": "stdout",
     "output_type": "stream",
     "text": [
      "[<Experiment: artifact_location='./mlruns/0', experiment_id='0', lifecycle_stage='active', name='Default', tags={}>, <Experiment: artifact_location='./mlruns/1', experiment_id='1', lifecycle_stage='active', name='duration-prediction', tags={}>, <Experiment: artifact_location='./mlruns/2', experiment_id='2', lifecycle_stage='active', name='test-experiment', tags={}>, <Experiment: artifact_location='./mlruns/3', experiment_id='3', lifecycle_stage='active', name='bike-duration-prediction', tags={}>, <Experiment: artifact_location='./mlruns/4', experiment_id='4', lifecycle_stage='active', name='bike-rental-experiment', tags={}>, <Experiment: artifact_location='file:///C:/Users/HannaPethani/OneDrive%20-%20Honeysuckle%20Health/Documents/GitHub/mlops-project/mlruns', experiment_id='5', lifecycle_stage='active', name='bikeshare-experiment', tags={}>]\n"
     ]
    }
   ],
   "source": [
    "experiments_list = client.list_experiments()\n",
    "print(experiments_list)"
   ]
  },
  {
   "cell_type": "code",
   "execution_count": 12,
   "metadata": {},
   "outputs": [
    {
     "name": "stderr",
     "output_type": "stream",
     "text": [
      "WARNING:root:Malformed experiment '246204cb29094cfc88aca5045bf7d995'. Detailed error Yaml file 'C:\\Users\\HannaPethani\\OneDrive - Honeysuckle Health\\Documents\\GitHub\\mlops-project\\mlruns\\246204cb29094cfc88aca5045bf7d995\\meta.yaml' does not exist.\n",
      "Traceback (most recent call last):\n",
      "  File \"c:\\Users\\HannaPethani\\anaconda3\\envs\\deployment-env\\lib\\site-packages\\mlflow\\store\\tracking\\file_store.py\", line 262, in list_experiments\n",
      "    experiment = self._get_experiment(exp_id, view_type)\n",
      "  File \"c:\\Users\\HannaPethani\\anaconda3\\envs\\deployment-env\\lib\\site-packages\\mlflow\\store\\tracking\\file_store.py\", line 341, in _get_experiment\n",
      "    meta = read_yaml(experiment_dir, FileStore.META_DATA_FILE_NAME)\n",
      "  File \"c:\\Users\\HannaPethani\\anaconda3\\envs\\deployment-env\\lib\\site-packages\\mlflow\\utils\\file_utils.py\", line 181, in read_yaml\n",
      "    raise MissingConfigException(\"Yaml file '%s' does not exist.\" % file_path)\n",
      "mlflow.exceptions.MissingConfigException: Yaml file 'C:\\Users\\HannaPethani\\OneDrive - Honeysuckle Health\\Documents\\GitHub\\mlops-project\\mlruns\\246204cb29094cfc88aca5045bf7d995\\meta.yaml' does not exist.\n",
      "WARNING:root:Malformed experiment '2c79bc02f1dd441f93c68ce29406a97f'. Detailed error Yaml file 'C:\\Users\\HannaPethani\\OneDrive - Honeysuckle Health\\Documents\\GitHub\\mlops-project\\mlruns\\2c79bc02f1dd441f93c68ce29406a97f\\meta.yaml' does not exist.\n",
      "Traceback (most recent call last):\n",
      "  File \"c:\\Users\\HannaPethani\\anaconda3\\envs\\deployment-env\\lib\\site-packages\\mlflow\\store\\tracking\\file_store.py\", line 262, in list_experiments\n",
      "    experiment = self._get_experiment(exp_id, view_type)\n",
      "  File \"c:\\Users\\HannaPethani\\anaconda3\\envs\\deployment-env\\lib\\site-packages\\mlflow\\store\\tracking\\file_store.py\", line 341, in _get_experiment\n",
      "    meta = read_yaml(experiment_dir, FileStore.META_DATA_FILE_NAME)\n",
      "  File \"c:\\Users\\HannaPethani\\anaconda3\\envs\\deployment-env\\lib\\site-packages\\mlflow\\utils\\file_utils.py\", line 181, in read_yaml\n",
      "    raise MissingConfigException(\"Yaml file '%s' does not exist.\" % file_path)\n",
      "mlflow.exceptions.MissingConfigException: Yaml file 'C:\\Users\\HannaPethani\\OneDrive - Honeysuckle Health\\Documents\\GitHub\\mlops-project\\mlruns\\2c79bc02f1dd441f93c68ce29406a97f\\meta.yaml' does not exist.\n"
     ]
    },
    {
     "name": "stdout",
     "output_type": "stream",
     "text": [
      "None\n",
      "run id: dcaa866194e64680823a45c547fa47d5, rmse: 12.4639\n",
      "run id: d9b0ca0ef3df4b67a83673461d01f9ca, rmse: 12.4649\n",
      "run id: 173e805f721442cda5aac365f14eb848, rmse: 12.4657\n",
      "run id: c614e50af1834e1181934acac9495f6f, rmse: 12.4661\n",
      "run id: 4d7d0fc83045441a8fcee4b0de288416, rmse: 12.4666\n"
     ]
    }
   ],
   "source": [
    "experiment = mlflow.get_experiment_by_name('bikeshare-experiment')\n",
    "print(experiment)\n",
    "# experiment_id = experiment.experiment_id\n",
    "# print(experiment_id)\n",
    "\n",
    "runs = client.search_runs(\n",
    "    experiment_ids = '5',\n",
    "    filter_string = 'metrics.rmse < 12.48',\n",
    "    run_view_type = ViewType.ACTIVE_ONLY,\n",
    "    max_results = 5,\n",
    "    order_by = ['metrics.rmse ASC']\n",
    ")\n",
    "\n",
    "for run in runs:\n",
    "    print(f\"run id: {run.info.run_id}, rmse: {run.data.metrics['rmse']:.4f}\")"
   ]
  },
  {
   "cell_type": "code",
   "execution_count": 13,
   "metadata": {},
   "outputs": [
    {
     "name": "stdout",
     "output_type": "stream",
     "text": [
      "version: 1, stage: Staging\n",
      "version: 6, stage: None\n"
     ]
    }
   ],
   "source": [
    "model_name = 'sklearn-ridge-model'\n",
    "latest_versions = client.get_latest_versions(name=model_name)\n",
    "\n",
    "for version in latest_versions:\n",
    "    print(f'version: {version.version}, stage: {version.current_stage}')"
   ]
  },
  {
   "cell_type": "code",
   "execution_count": null,
   "metadata": {},
   "outputs": [],
   "source": [
    "mlflow.set_tracking_uri = (mlflow_tracking_uri)\n",
    "mlflow.set_experiment('bike-rental-experiment')\n",
    "\n",
    "run_id = 'ba79aba996a74a48986e51f45d32aea2'\n",
    "model_uri = f'./mlruns/4/{run_id}/artifacts/models'\n",
    "mlflow.register_model(model_uri = model_uri, name = 'sklearn-ridge-model')"
   ]
  },
  {
   "cell_type": "code",
   "execution_count": null,
   "metadata": {},
   "outputs": [],
   "source": [
    "model_version = 1\n",
    "new_stage = 'Production'\n",
    "client.transition_model_version_stage(\n",
    "    name = model_name,\n",
    "    version = model_version,\n",
    "    stage = new_stage,\n",
    "    archive_existing_versions = False\n",
    ")"
   ]
  },
  {
   "cell_type": "code",
   "execution_count": null,
   "metadata": {},
   "outputs": [],
   "source": [
    "date = datetime.today().date()\n",
    "client.update_model_version(\n",
    "    name = model_name,\n",
    "    version = model_version,\n",
    "    description = f'The model version {model_version} was transitioned to {new_stage} on {date}'\n",
    ")"
   ]
  },
  {
   "cell_type": "code",
   "execution_count": null,
   "metadata": {},
   "outputs": [],
   "source": []
  }
 ],
 "metadata": {
  "kernelspec": {
   "display_name": "Python 3.10.4 ('deployment-env')",
   "language": "python",
   "name": "python3"
  },
  "language_info": {
   "codemirror_mode": {
    "name": "ipython",
    "version": 3
   },
   "file_extension": ".py",
   "mimetype": "text/x-python",
   "name": "python",
   "nbconvert_exporter": "python",
   "pygments_lexer": "ipython3",
   "version": "3.10.4"
  },
  "orig_nbformat": 4,
  "vscode": {
   "interpreter": {
    "hash": "20c234d05a57c7fcbea82369532fcdbc948df8bc52d9dfd7b1138e10d4d5f6ea"
   }
  }
 },
 "nbformat": 4,
 "nbformat_minor": 2
}
